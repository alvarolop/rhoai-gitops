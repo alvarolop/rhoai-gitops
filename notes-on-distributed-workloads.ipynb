{
 "cells": [
  {
   "cell_type": "markdown",
   "id": "fe110cf5-0c6c-4165-ac88-2afb3f7a7cd7",
   "metadata": {},
   "source": [
    "# Notes on Distributed Workloads"
   ]
  },
  {
   "cell_type": "markdown",
   "id": "79e62817-5635-4552-9ae4-f802f8d12aec",
   "metadata": {},
   "source": [
    "This Jupiter Notebook contains basic information and findings about how to run distributed workloads on OpenShift AI using te following components:\n",
    "\n",
    "* **CodeFlare Operator**: Secures deployed Ray clusters and grants access to their URLs.\n",
    "* **KubeRay**: Manages remote Ray clusters on OpenShift for running distributed compute workloads.\n",
    "* **Kueue**: Manages quotas and how distributed workloads consume them, and manages the queueing of distributed workloads with respect to quotas.\n",
    "* **Training Operator**: To use the Kubeflow Training Operator to tune models\n",
    "\n",
    "In summary, there are two ways of tuning models on OpenShift AI and you can choose your own:\n",
    "* If you want to use the CodeFlare framework to tune models, enable the codeflare, kueue, and ray components.\n",
    "* If you want to use the Kubeflow Training Operator to tune models, enable the kueue and trainingoperator components.\n",
    "\n",
    "\n",
    "NOTE: **CodeFlare SDK**: Defines and controls the remote distributed compute jobs and infrastructure for any Python-based environment. This component has to be installed on your Jupiter Notebook environment \n"
   ]
  },
  {
   "cell_type": "markdown",
   "id": "78df52ef-968c-42ed-9f47-b6f830564c76",
   "metadata": {},
   "source": [
    "## 1. Import CloudFlare SDK\n",
    "\n",
    "* Defines and controls the remote distributed compute jobs and infrastructure for any Python-based environment. \n",
    "* This component has to be installed on your Jupiter Notebook environment."
   ]
  },
  {
   "cell_type": "code",
   "execution_count": 4,
   "id": "dffea606-73c6-4ead-a624-dd20f5d78514",
   "metadata": {},
   "outputs": [],
   "source": [
    "import os\n",
    "import codeflare_sdk"
   ]
  },
  {
   "cell_type": "markdown",
   "id": "ad51ba52-34d6-41d6-bf83-edb720562a8e",
   "metadata": {},
   "source": [
    "## 2. Download the example guides\n",
    "The demo notebooks from the CodeFlare SDK provide guidelines on how to use the CodeFlare stack in your own notebooks. Download the demo notebooks so that you can learn how to run the notebooks locally."
   ]
  },
  {
   "cell_type": "code",
   "execution_count": 8,
   "id": "af7a77d9-7115-4a6a-9533-e97d07662951",
   "metadata": {},
   "outputs": [],
   "source": [
    "codeflare_sdk.copy_demo_nbs() if not os.path.exists('demo-notebooks') else None"
   ]
  },
  {
   "cell_type": "markdown",
   "id": "2dec7d77-6058-4620-a203-fe83767752f0",
   "metadata": {},
   "source": [
    "## 3. List Kueue queues\n",
    "Check whether your cluster administrator has defined a default local queue for the Ray cluster.\n",
    "\n",
    "You can use the codeflare_sdk.list_local_queues() function to view all local queues in your current namespace, and the resource flavors associated with each local queue."
   ]
  },
  {
   "cell_type": "code",
   "execution_count": 10,
   "id": "2c418b80-a8bc-48b9-a669-1ee280511d60",
   "metadata": {},
   "outputs": [
    {
     "data": {
      "text/plain": [
       "[{'name': 'rhoai-playground-queue', 'flavors': ['default-flavor']}]"
      ]
     },
     "execution_count": 10,
     "metadata": {},
     "output_type": "execute_result"
    }
   ],
   "source": [
    "codeflare_sdk.list_local_queues()"
   ]
  },
  {
   "cell_type": "markdown",
   "id": "1ce5a1cf-ebad-4cff-83ed-deb4b260538d",
   "metadata": {},
   "source": [
    "## 4. List Ray Clusters"
   ]
  },
  {
   "cell_type": "code",
   "execution_count": null,
   "id": "bc2d8fe8-e372-4b85-b4d6-38ab2263296f",
   "metadata": {},
   "outputs": [],
   "source": [
    "# Create authentication object for user permissions\n",
    "# IF unused, SDK will automatically check for default kubeconfig, then in-cluster config\n",
    "# KubeConfigFileAuthentication can also be used to specify kubeconfig path manually\n",
    "auth = codeflare_sdk.TokenAuthentication(\n",
    "    token = \"XXXX\",\n",
    "    server = \"XXXX\",\n",
    "    skip_tls=False\n",
    ")\n",
    "auth.login()"
   ]
  },
  {
   "cell_type": "code",
   "execution_count": 16,
   "id": "b3953de1-1b10-4a6c-9248-87cbdea64591",
   "metadata": {},
   "outputs": [
    {
     "data": {
      "application/vnd.jupyter.widget-view+json": {
       "model_id": "221dac2ccb3040d1a23ba71b65b34538",
       "version_major": 2,
       "version_minor": 0
      },
      "text/plain": [
       "VBox(children=(ToggleButtons(description='Select an existing cluster:', options=('jobtest',), value='jobtest')…"
      ]
     },
     "metadata": {},
     "output_type": "display_data"
    },
    {
     "data": {
      "application/vnd.jupyter.widget-view+json": {
       "model_id": "2098ad86018e461fab5522faf5ccf586",
       "version_major": 2,
       "version_minor": 0
      },
      "text/plain": [
       "HBox(children=(Button(description='Delete Cluster', icon='trash', style=ButtonStyle(), tooltip='Delete the sel…"
      ]
     },
     "metadata": {},
     "output_type": "display_data"
    },
    {
     "data": {
      "application/vnd.jupyter.widget-view+json": {
       "model_id": "31013aa91b9d4c3ea6d20741c66ea5b4",
       "version_major": 2,
       "version_minor": 0
      },
      "text/plain": [
       "Output()"
      ]
     },
     "metadata": {},
     "output_type": "display_data"
    },
    {
     "data": {
      "application/vnd.jupyter.widget-view+json": {
       "model_id": "a6ec94df11774165b38d65331a164292",
       "version_major": 2,
       "version_minor": 0
      },
      "text/plain": [
       "Output()"
      ]
     },
     "metadata": {},
     "output_type": "display_data"
    }
   ],
   "source": [
    "codeflare_sdk.view_clusters()"
   ]
  },
  {
   "cell_type": "code",
   "execution_count": null,
   "id": "c2748acc-2861-4996-80aa-0d622772bd6b",
   "metadata": {},
   "outputs": [],
   "source": []
  }
 ],
 "metadata": {
  "kernelspec": {
   "display_name": "Python 3.11",
   "language": "python",
   "name": "python3"
  },
  "language_info": {
   "codemirror_mode": {
    "name": "ipython",
    "version": 3
   },
   "file_extension": ".py",
   "mimetype": "text/x-python",
   "name": "python",
   "nbconvert_exporter": "python",
   "pygments_lexer": "ipython3",
   "version": "3.11.7"
  }
 },
 "nbformat": 4,
 "nbformat_minor": 5
}
